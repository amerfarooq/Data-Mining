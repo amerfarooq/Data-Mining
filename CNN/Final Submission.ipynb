{
 "cells": [
  {
   "cell_type": "code",
   "execution_count": 0,
   "metadata": {
    "_cell_guid": "b1076dfc-b9ad-4769-8c92-a6c4dae69d19",
    "_uuid": "8f2839f25d086af736a60e9eeb907d3b93b6e0e5",
    "colab": {},
    "colab_type": "code",
    "id": "WjoLW3XJnhew"
   },
   "outputs": [],
   "source": [
    "import numpy as np \n",
    "import pandas as pd \n",
    "\n",
    "from keras.optimizers import SGD, Adam\n",
    "import keras\n",
    "from keras.models import Sequential\n",
    "from keras.utils import to_categorical\n",
    "from keras.layers import Dense, Dropout, Activation, Flatten, Conv2D, MaxPooling2D, Convolution2D\n",
    "from keras.layers.normalization import BatchNormalization\n",
    "from keras.preprocessing.image import ImageDataGenerator\n",
    "from keras.regularizers import l2\n",
    "\n",
    "import numpy as np\n",
    "import pandas as pd\n",
    "import matplotlib.pyplot as plt\n",
    "from scipy import interpolate\n",
    "from sklearn.linear_model import LinearRegression\n",
    "from sklearn.model_selection import train_test_split\n",
    "pd.options.mode.chained_assignment = None\n",
    "from scipy.interpolate import griddata\n",
    "\n",
    "# Any results you write to the current directory are saved as output.\n",
    "from google.colab import drive\n",
    "drive.mount('/content/mydrive')"
   ]
  },
  {
   "cell_type": "code",
   "execution_count": 0,
   "metadata": {
    "_cell_guid": "79c7e3d0-c299-4dcb-8224-4455121ee9b0",
    "_uuid": "d629ff2d2480ee46fbb7e2d37f6b5fab8052498a",
    "colab": {},
    "colab_type": "code",
    "id": "xcQWIfv-nhe9"
   },
   "outputs": [],
   "source": [
    "labels = pd.read_csv('/content/mydrive/My Drive/DM_DATA/Train.csv', usecols=['label']).astype(int)\n",
    "train_data = pd.read_csv('/content/mydrive/My Drive/DM_DATA/interpolated_train.csv')\n",
    "test_data = pd.read_csv('/content/mydrive/My Drive/DM_DATA/interpolated_test.csv')"
   ]
  },
  {
   "cell_type": "code",
   "execution_count": 0,
   "metadata": {
    "colab": {},
    "colab_type": "code",
    "id": "em3LoF2VsFrV"
   },
   "outputs": [],
   "source": [
    "def interpolation(array):\n",
    "    x = np.arange(0, array.shape[1])\n",
    "    y = np.arange(0, array.shape[0])\n",
    "    array = np.ma.masked_invalid(array)\n",
    "    xx, yy = np.meshgrid(x, y)\n",
    "    x1 = xx[~array.mask]\n",
    "    y1 = yy[~array.mask]\n",
    "    newarr = array[~array.mask]\n",
    "    GD1 = griddata((x1, y1), newarr.ravel(),(xx, yy), method='cubic', fill_value=255)\n",
    "    return GD1.reshape(1024,)"
   ]
  },
  {
   "cell_type": "code",
   "execution_count": 0,
   "metadata": {
    "colab": {},
    "colab_type": "code",
    "id": "n7e7kQ9Jsh3h"
   },
   "outputs": [],
   "source": [
    "for i in range(0, train.shape[0]):\n",
    "    train.iloc[i] = interpolation(np.array(train.iloc[i]).reshape(32,32))\n",
    "    \n",
    "for i in range(0, test.shape[0]):\n",
    "    test.iloc[i] = interpolation(np.array(test.iloc[i]).reshape(32,32))"
   ]
  },
  {
   "cell_type": "code",
   "execution_count": 0,
   "metadata": {
    "colab": {},
    "colab_type": "code",
    "id": "BNht16Fvnhff"
   },
   "outputs": [],
   "source": [
    "def imgShow(im):\n",
    "    res = np.array(im).reshape(32,32)\n",
    "    plt.imshow(res,interpolation='nearest', cmap = plt.cm.gray)"
   ]
  },
  {
   "cell_type": "code",
   "execution_count": 4,
   "metadata": {
    "colab": {
     "base_uri": "https://localhost:8080/",
     "height": 269
    },
    "colab_type": "code",
    "id": "YiolG-zanhfn",
    "outputId": "359d3ab8-e243-45a8-de9a-5aedd16aea5a"
   },
   "outputs": [
    {
     "data": {
      "image/png": "[encoded data removed]",
      "text/plain": [
       "<Figure size 432x288 with 1 Axes>"
      ]
     },
     "metadata": {
      "tags": []
     },
     "output_type": "display_data"
    }
   ],
   "source": [
    "imgShow(train_data.iloc[1])"
   ]
  },
  {
   "cell_type": "code",
   "execution_count": 0,
   "metadata": {
    "colab": {},
    "colab_type": "code",
    "id": "xSEhYTc5nhgb"
   },
   "outputs": [],
   "source": [
    "train = train_data.values.reshape(train_data.shape[0], 32, 32, 1)\n",
    "test = test_data.values.reshape(test_data.shape[0], 32, 32, 1)\n",
    "labels = to_categorical(labels, 10)"
   ]
  },
  {
   "cell_type": "code",
   "execution_count": 0,
   "metadata": {
    "colab": {},
    "colab_type": "code",
    "id": "QVEq8R4Jnhgo"
   },
   "outputs": [],
   "source": [
    "# The taitest model\n",
    "\n",
    "num_filters=32\n",
    "ac='relu'\n",
    "adm=Adam(lr=0.0001, decay=0, beta_1=0.9, beta_2=0.999, epsilon=1e-08)\n",
    "opt=adm\n",
    "drop_dense=0.5\n",
    "drop_conv=0.5\n",
    "\n",
    "model = Sequential()\n",
    "\n",
    "model.add(Conv2D(num_filters, (3, 3), activation=ac, input_shape=(32, 32, 1), padding='same'))\n",
    "model.add(BatchNormalization(axis=-1))\n",
    "model.add(Conv2D(num_filters, (3, 3), activation=ac, padding='same'))\n",
    "model.add(BatchNormalization(axis=-1))\n",
    "model.add(MaxPooling2D(pool_size=(2, 2)))   \n",
    "model.add(Dropout(drop_conv))\n",
    "\n",
    "model.add(Conv2D(2*num_filters, (3, 3), activation=ac, padding='same'))\n",
    "model.add(BatchNormalization(axis=-1))\n",
    "model.add(Conv2D(2*num_filters, (3, 3), activation=ac, padding='same'))\n",
    "model.add(BatchNormalization(axis=-1))\n",
    "model.add(MaxPooling2D(pool_size=(2, 2)))   \n",
    "model.add(Dropout(drop_conv))\n",
    "\n",
    "model.add(Conv2D(4*num_filters, (3, 3), activation=ac, padding='same'))\n",
    "model.add(BatchNormalization(axis=-1))\n",
    "model.add(Conv2D(4*num_filters, (3, 3), activation=ac, padding='same'))\n",
    "model.add(BatchNormalization(axis=-1))\n",
    "model.add(MaxPooling2D(pool_size=(2, 2)))  \n",
    "model.add(Dropout(drop_conv))\n",
    "\n",
    "model.add(Flatten())\n",
    "model.add(Dense(512, activation=ac))\n",
    "model.add(BatchNormalization())\n",
    "model.add(Dropout(drop_dense))\n",
    "model.add(Dense(10, activation='softmax'))\n",
    "\n",
    "model.compile(loss='categorical_crossentropy', metrics=['accuracy'], optimizer=opt)\n",
    "model.fit(train, labels, batch_size=128, epochs=100, validation_split=0.25)"
   ]
  },
  {
   "cell_type": "code",
   "execution_count": 0,
   "metadata": {
    "colab": {},
    "colab_type": "code",
    "id": "a30pWwgAL_cL"
   },
   "outputs": [],
   "source": [
    "# Prediction\n",
    "res = model.predict_classes(test)"
   ]
  },
  {
   "cell_type": "code",
   "execution_count": 0,
   "metadata": {
    "colab": {},
    "colab_type": "code",
    "id": "XL8lqOz3nhhA"
   },
   "outputs": [],
   "source": [
    "submission = pd.read_csv('/content/mydrive/My Drive/DM_DATA/sample.csv')\n",
    "submission['label'] = res\n",
    "submission.to_csv('/content/mydrive/My Drive/DM_DATA/submission_model9.csv', index=False)"
   ]
  }
 ],
 "metadata": {
  "accelerator": "GPU",
  "colab": {
   "collapsed_sections": [],
   "name": "DM Project Submission.ipynb",
   "provenance": [],
   "version": "0.3.2"
  },
  "kernelspec": {
   "display_name": "Python 3",
   "language": "python",
   "name": "python3"
  },
  "language_info": {
   "codemirror_mode": {
    "name": "ipython",
    "version": 3
   },
   "file_extension": ".py",
   "mimetype": "text/x-python",
   "name": "python",
   "nbconvert_exporter": "python",
   "pygments_lexer": "ipython3",
   "version": "3.6.5"
  }
 },
 "nbformat": 4,
 "nbformat_minor": 1
}
