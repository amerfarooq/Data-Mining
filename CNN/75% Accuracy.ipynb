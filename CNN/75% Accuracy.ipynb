{
 "cells": [
  {
   "cell_type": "code",
   "execution_count": 0,
   "metadata": {
    "_cell_guid": "b1076dfc-b9ad-4769-8c92-a6c4dae69d19",
    "_uuid": "8f2839f25d086af736a60e9eeb907d3b93b6e0e5",
    "colab": {},
    "colab_type": "code",
    "id": "WjoLW3XJnhew"
   },
   "outputs": [],
   "source": [
    "import numpy as np \n",
    "import pandas as pd \n",
    "\n",
    "from keras.optimizers import SGD, Adam\n",
    "import keras\n",
    "from keras.models import Sequential\n",
    "from keras.utils import to_categorical\n",
    "from keras.layers import Dense, Dropout, Activation, Flatten, BatchNormalization, Conv2D, MaxPooling2D, Convolution2D\n",
    "\n",
    "import numpy as np\n",
    "import pandas as pd\n",
    "import matplotlib.pyplot as plt\n",
    "from scipy import interpolate\n",
    "from sklearn.linear_model import LinearRegression\n",
    "from sklearn.model_selection import train_test_split\n",
    "pd.options.mode.chained_assignment = None\n",
    "from scipy.interpolate import griddata\n",
    "\n",
    "# Any results you write to the current directory are saved as output.\n",
    "from google.colab import drive\n",
    "drive.mount('/content/mydrive')"
   ]
  },
  {
   "cell_type": "code",
   "execution_count": 0,
   "metadata": {
    "_cell_guid": "79c7e3d0-c299-4dcb-8224-4455121ee9b0",
    "_uuid": "d629ff2d2480ee46fbb7e2d37f6b5fab8052498a",
    "colab": {},
    "colab_type": "code",
    "id": "xcQWIfv-nhe9"
   },
   "outputs": [],
   "source": [
    "labels = pd.read_csv('/content/mydrive/My Drive/DM_DATA/Train.csv', usecols=['label']).astype(int)\n",
    "train_data = pd.read_csv('/content/mydrive/My Drive/DM_DATA/interpolated_train.csv')\n",
    "test_data = pd.read_csv('/content/mydrive/My Drive/DM_DATA/interpolated_test.csv')"
   ]
  },
  {
   "cell_type": "code",
   "execution_count": 0,
   "metadata": {
    "colab": {},
    "colab_type": "code",
    "id": "BNht16Fvnhff"
   },
   "outputs": [],
   "source": [
    "def imgShow(im):\n",
    "    res = np.array(im).reshape(32,32)\n",
    "    plt.imshow(res,interpolation='nearest', cmap = plt.cm.gray)"
   ]
  },
  {
   "cell_type": "code",
   "execution_count": 34,
   "metadata": {
    "colab": {
     "base_uri": "https://localhost:8080/",
     "height": 269
    },
    "colab_type": "code",
    "id": "YiolG-zanhfn",
    "outputId": "f8043092-86f0-4d92-df87-809bad522858"
   },
   "outputs": [
    {
     "data": {
      "image/png": "[encoded data removed]",
      "text/plain": [
       "<Figure size 432x288 with 1 Axes>"
      ]
     },
     "metadata": {
      "tags": []
     },
     "output_type": "display_data"
    }
   ],
   "source": [
    "imgShow(train_data.iloc[1])"
   ]
  },
  {
   "cell_type": "code",
   "execution_count": 0,
   "metadata": {
    "colab": {},
    "colab_type": "code",
    "id": "xSEhYTc5nhgb"
   },
   "outputs": [],
   "source": [
    "X_train, X_test, y_train, y_test = train_test_split(train_data, labels)\n",
    "\n",
    "X_train = X_train.values.reshape(X_train.shape[0], 32, 32, 1)\n",
    "X_test = X_test.values.reshape(X_test.shape[0], 32, 32, 1)\n",
    "test = test_data.values.reshape(test_data.shape[0], 32, 32, 1)\n",
    "y_train = to_categorical(y_train, 10)\n",
    "y_test = to_categorical(y_test, 10)"
   ]
  },
  {
   "cell_type": "code",
   "execution_count": 36,
   "metadata": {
    "colab": {
     "base_uri": "https://localhost:8080/",
     "height": 269
    },
    "colab_type": "code",
    "id": "nzEJGN54nhgh",
    "outputId": "4733e9ed-242e-4b2a-e825-2c3337e09126"
   },
   "outputs": [
    {
     "data": {
      "image/png": "[encoded data removed]",
      "text/plain": [
       "<Figure size 432x288 with 1 Axes>"
      ]
     },
     "metadata": {
      "tags": []
     },
     "output_type": "display_data"
    }
   ],
   "source": [
    "imgShow(test[1])"
   ]
  },
  {
   "cell_type": "code",
   "execution_count": 0,
   "metadata": {
    "colab": {},
    "colab_type": "code",
    "id": "4aRulsHe6Hqg"
   },
   "outputs": [],
   "source": [
    "# Model 2 with 67% accuracy on 100 epochs\n",
    "\n",
    "model2 = Sequential()\n",
    "model2.add(Conv2D(48, 3, 3, border_mode='same', input_shape=(32, 32, 1)))\n",
    "model2.add(Activation('relu'))\n",
    "model2.add(Conv2D(48, 3, 3))\n",
    "model2.add(Activation('relu'))\n",
    "model2.add(MaxPooling2D(pool_size=(2, 2)))\n",
    "model2.add(Dropout(0.25))\n",
    "model2.add(Conv2D(96, 3, 3, border_mode='same'))\n",
    "model2.add(Activation('relu'))\n",
    "model2.add(Conv2D(96, 3, 3))\n",
    "model2.add(Activation('relu'))\n",
    "model2.add(MaxPooling2D(pool_size=(2, 2)))\n",
    "model2.add(Dropout(0.25))\n",
    "model2.add(Conv2D(192, 3, 3, border_mode='same'))\n",
    "model2.add(Activation('relu'))\n",
    "model2.add(Conv2D(192, 3, 3))\n",
    "model2.add(Activation('relu'))\n",
    "model2.add(MaxPooling2D(pool_size=(2, 2)))\n",
    "model2.add(Dropout(0.25))\n",
    "model2.add(Flatten())\n",
    "model2.add(Dense(512))\n",
    "model2.add(Activation('relu'))\n",
    "model2.add(Dropout(0.5))\n",
    "model2.add(Dense(256))\n",
    "model2.add(Activation('relu'))\n",
    "model2.add(Dropout(0.5))\n",
    "model2.add(Dense(10, activation='softmax'))\n",
    "\n",
    "model2.compile(optimizer='adam', loss='categorical_crossentropy', metrics=['accuracy'])\n",
    "model2.fit(X_train, y_train,batch_size=128, epochs=100, validation_data=(X_test, y_test))"
   ]
  },
  {
   "cell_type": "code",
   "execution_count": 37,
   "metadata": {
    "colab": {
     "base_uri": "https://localhost:8080/",
     "height": 3508
    },
    "colab_type": "code",
    "id": "QVEq8R4Jnhgo",
    "outputId": "2dee0a7b-0867-4d0c-f59e-c79963b1f059"
   },
   "outputs": [
    {
     "name": "stdout",
     "output_type": "stream",
     "text": [
      "Train on 36375 samples, validate on 12125 samples\n",
      "Epoch 1/100\n",
      "36375/36375 [==============================] - 23s 634us/step - loss: 2.3186 - acc: 0.2744 - val_loss: 1.9259 - val_acc: 0.3236\n",
      "Epoch 2/100\n",
      "36375/36375 [==============================] - 19s 515us/step - loss: 1.8557 - acc: 0.3878 - val_loss: 1.8938 - val_acc: 0.3595\n",
      "Epoch 3/100\n",
      "36375/36375 [==============================] - 18s 508us/step - loss: 1.6984 - acc: 0.4459 - val_loss: 1.9673 - val_acc: 0.3544\n",
      "Epoch 4/100\n",
      "36375/36375 [==============================] - 19s 511us/step - loss: 1.5757 - acc: 0.4878 - val_loss: 1.4188 - val_acc: 0.5282\n",
      "Epoch 5/100\n",
      "36375/36375 [==============================] - 19s 510us/step - loss: 1.4646 - acc: 0.5174 - val_loss: 1.3504 - val_acc: 0.5508\n",
      "Epoch 6/100\n",
      "36375/36375 [==============================] - 19s 510us/step - loss: 1.3565 - acc: 0.5469 - val_loss: 1.4182 - val_acc: 0.5325\n",
      "Epoch 7/100\n",
      "36375/36375 [==============================] - 18s 504us/step - loss: 1.2830 - acc: 0.5725 - val_loss: 1.4138 - val_acc: 0.5297\n",
      "Epoch 8/100\n",
      "36375/36375 [==============================] - 18s 504us/step - loss: 1.2232 - acc: 0.5957 - val_loss: 1.2782 - val_acc: 0.5727\n",
      "Epoch 9/100\n",
      "36375/36375 [==============================] - 18s 507us/step - loss: 1.1887 - acc: 0.6076 - val_loss: 1.0765 - val_acc: 0.6545\n",
      "Epoch 10/100\n",
      "36375/36375 [==============================] - 18s 508us/step - loss: 1.1539 - acc: 0.6224 - val_loss: 1.1772 - val_acc: 0.6223\n",
      "Epoch 11/100\n",
      "36375/36375 [==============================] - 19s 509us/step - loss: 1.1234 - acc: 0.6344 - val_loss: 1.0465 - val_acc: 0.6707\n",
      "Epoch 12/100\n",
      "36375/36375 [==============================] - 18s 507us/step - loss: 1.1034 - acc: 0.6432 - val_loss: 1.1243 - val_acc: 0.6379\n",
      "Epoch 13/100\n",
      "36375/36375 [==============================] - 18s 508us/step - loss: 1.0828 - acc: 0.6496 - val_loss: 1.0785 - val_acc: 0.6593\n",
      "Epoch 14/100\n",
      "36375/36375 [==============================] - 18s 499us/step - loss: 1.0537 - acc: 0.6597 - val_loss: 1.0437 - val_acc: 0.6676\n",
      "Epoch 15/100\n",
      "36375/36375 [==============================] - 18s 505us/step - loss: 1.0315 - acc: 0.6673 - val_loss: 1.0629 - val_acc: 0.6638\n",
      "Epoch 16/100\n",
      "36375/36375 [==============================] - 18s 508us/step - loss: 1.0165 - acc: 0.6733 - val_loss: 1.0295 - val_acc: 0.6796\n",
      "Epoch 17/100\n",
      "36375/36375 [==============================] - 18s 508us/step - loss: 0.9980 - acc: 0.6818 - val_loss: 0.9742 - val_acc: 0.6962\n",
      "Epoch 18/100\n",
      "36375/36375 [==============================] - 18s 509us/step - loss: 0.9791 - acc: 0.6862 - val_loss: 1.1145 - val_acc: 0.6496\n",
      "Epoch 19/100\n",
      "36375/36375 [==============================] - 19s 511us/step - loss: 0.9709 - acc: 0.6898 - val_loss: 0.9761 - val_acc: 0.6991\n",
      "Epoch 20/100\n",
      "36375/36375 [==============================] - 19s 514us/step - loss: 0.9556 - acc: 0.6935 - val_loss: 0.9613 - val_acc: 0.7042\n",
      "Epoch 21/100\n",
      "36375/36375 [==============================] - 19s 510us/step - loss: 0.9272 - acc: 0.7034 - val_loss: 0.9744 - val_acc: 0.7088\n",
      "Epoch 22/100\n",
      "36375/36375 [==============================] - 18s 506us/step - loss: 0.9260 - acc: 0.7038 - val_loss: 0.9815 - val_acc: 0.6988\n",
      "Epoch 23/100\n",
      "36375/36375 [==============================] - 18s 506us/step - loss: 0.9071 - acc: 0.7130 - val_loss: 0.9580 - val_acc: 0.7067\n",
      "Epoch 24/100\n",
      "36375/36375 [==============================] - 18s 503us/step - loss: 0.9004 - acc: 0.7128 - val_loss: 0.9969 - val_acc: 0.6977\n",
      "Epoch 25/100\n",
      "36375/36375 [==============================] - 18s 506us/step - loss: 0.8842 - acc: 0.7164 - val_loss: 0.9755 - val_acc: 0.7053\n",
      "Epoch 26/100\n",
      "36375/36375 [==============================] - 18s 507us/step - loss: 0.8761 - acc: 0.7231 - val_loss: 1.0264 - val_acc: 0.6825\n",
      "Epoch 27/100\n",
      "36375/36375 [==============================] - 18s 501us/step - loss: 0.8614 - acc: 0.7236 - val_loss: 0.9499 - val_acc: 0.7107\n",
      "Epoch 28/100\n",
      "36375/36375 [==============================] - 18s 487us/step - loss: 0.8541 - acc: 0.7276 - val_loss: 0.9506 - val_acc: 0.7147\n",
      "Epoch 29/100\n",
      "36375/36375 [==============================] - 18s 489us/step - loss: 0.8371 - acc: 0.7344 - val_loss: 0.9437 - val_acc: 0.7155\n",
      "Epoch 30/100\n",
      "36375/36375 [==============================] - 18s 489us/step - loss: 0.8329 - acc: 0.7350 - val_loss: 0.9514 - val_acc: 0.7156\n",
      "Epoch 31/100\n",
      "36375/36375 [==============================] - 18s 489us/step - loss: 0.8143 - acc: 0.7394 - val_loss: 0.9377 - val_acc: 0.7231\n",
      "Epoch 32/100\n",
      "36375/36375 [==============================] - 18s 501us/step - loss: 0.8208 - acc: 0.7382 - val_loss: 0.9293 - val_acc: 0.7231\n",
      "Epoch 33/100\n",
      "36375/36375 [==============================] - 18s 495us/step - loss: 0.8049 - acc: 0.7440 - val_loss: 0.9506 - val_acc: 0.7154\n",
      "Epoch 34/100\n",
      "36375/36375 [==============================] - 18s 497us/step - loss: 0.7927 - acc: 0.7456 - val_loss: 0.9536 - val_acc: 0.7154\n",
      "Epoch 35/100\n",
      "36375/36375 [==============================] - 18s 497us/step - loss: 0.7847 - acc: 0.7504 - val_loss: 0.9687 - val_acc: 0.7136\n",
      "Epoch 36/100\n",
      "36375/36375 [==============================] - 18s 498us/step - loss: 0.7784 - acc: 0.7515 - val_loss: 0.9880 - val_acc: 0.7070\n",
      "Epoch 37/100\n",
      "36375/36375 [==============================] - 18s 496us/step - loss: 0.7726 - acc: 0.7531 - val_loss: 0.9378 - val_acc: 0.7245\n",
      "Epoch 38/100\n",
      "36375/36375 [==============================] - 18s 486us/step - loss: 0.7766 - acc: 0.7506 - val_loss: 0.9583 - val_acc: 0.7155\n",
      "Epoch 39/100\n",
      "36375/36375 [==============================] - 18s 489us/step - loss: 0.7505 - acc: 0.7574 - val_loss: 0.9261 - val_acc: 0.7281\n",
      "Epoch 40/100\n",
      "36375/36375 [==============================] - 18s 491us/step - loss: 0.7507 - acc: 0.7603 - val_loss: 0.9285 - val_acc: 0.7264\n",
      "Epoch 41/100\n",
      "36375/36375 [==============================] - 18s 493us/step - loss: 0.7441 - acc: 0.7612 - val_loss: 0.9609 - val_acc: 0.7166\n",
      "Epoch 42/100\n",
      "36375/36375 [==============================] - 18s 501us/step - loss: 0.7318 - acc: 0.7643 - val_loss: 0.9028 - val_acc: 0.7369\n",
      "Epoch 43/100\n",
      "36375/36375 [==============================] - 18s 498us/step - loss: 0.7298 - acc: 0.7659 - val_loss: 0.9349 - val_acc: 0.7284\n",
      "Epoch 44/100\n",
      "36375/36375 [==============================] - 19s 510us/step - loss: 0.7217 - acc: 0.7671 - val_loss: 0.9334 - val_acc: 0.7275\n",
      "Epoch 45/100\n",
      "36375/36375 [==============================] - 18s 508us/step - loss: 0.7194 - acc: 0.7686 - val_loss: 0.9562 - val_acc: 0.7186\n",
      "Epoch 46/100\n",
      "36375/36375 [==============================] - 19s 515us/step - loss: 0.7094 - acc: 0.7708 - val_loss: 0.9359 - val_acc: 0.7265\n",
      "Epoch 47/100\n",
      "36375/36375 [==============================] - 19s 513us/step - loss: 0.7015 - acc: 0.7748 - val_loss: 0.9522 - val_acc: 0.7219\n",
      "Epoch 48/100\n",
      "36375/36375 [==============================] - 19s 513us/step - loss: 0.6993 - acc: 0.7754 - val_loss: 0.9252 - val_acc: 0.7361\n",
      "Epoch 49/100\n",
      "36375/36375 [==============================] - 19s 514us/step - loss: 0.6931 - acc: 0.7755 - val_loss: 0.9487 - val_acc: 0.7320\n",
      "Epoch 50/100\n",
      "36375/36375 [==============================] - 19s 510us/step - loss: 0.6911 - acc: 0.7761 - val_loss: 0.9678 - val_acc: 0.7214\n",
      "Epoch 51/100\n",
      "36375/36375 [==============================] - 19s 515us/step - loss: 0.6815 - acc: 0.7794 - val_loss: 0.9629 - val_acc: 0.7224\n",
      "Epoch 52/100\n",
      "36375/36375 [==============================] - 19s 513us/step - loss: 0.6797 - acc: 0.7797 - val_loss: 0.9252 - val_acc: 0.7317\n",
      "Epoch 53/100\n",
      "36375/36375 [==============================] - 19s 513us/step - loss: 0.6719 - acc: 0.7811 - val_loss: 0.9552 - val_acc: 0.7270\n",
      "Epoch 54/100\n",
      "36375/36375 [==============================] - 19s 511us/step - loss: 0.6586 - acc: 0.7850 - val_loss: 0.9459 - val_acc: 0.7264\n",
      "Epoch 55/100\n",
      "36375/36375 [==============================] - 19s 510us/step - loss: 0.6695 - acc: 0.7830 - val_loss: 0.9246 - val_acc: 0.7353\n",
      "Epoch 56/100\n",
      "36375/36375 [==============================] - 19s 515us/step - loss: 0.6550 - acc: 0.7869 - val_loss: 0.9346 - val_acc: 0.7331\n",
      "Epoch 57/100\n",
      "36375/36375 [==============================] - 19s 515us/step - loss: 0.6501 - acc: 0.7875 - val_loss: 0.9185 - val_acc: 0.7424\n",
      "Epoch 58/100\n",
      "36375/36375 [==============================] - 18s 508us/step - loss: 0.6462 - acc: 0.7909 - val_loss: 0.9500 - val_acc: 0.7290\n",
      "Epoch 59/100\n",
      "36375/36375 [==============================] - 19s 512us/step - loss: 0.6456 - acc: 0.7888 - val_loss: 0.9416 - val_acc: 0.7296\n",
      "Epoch 60/100\n",
      "36375/36375 [==============================] - 19s 512us/step - loss: 0.6384 - acc: 0.7914 - val_loss: 0.9245 - val_acc: 0.7348\n",
      "Epoch 61/100\n",
      "36375/36375 [==============================] - 19s 510us/step - loss: 0.6242 - acc: 0.7957 - val_loss: 0.9665 - val_acc: 0.7259\n",
      "Epoch 62/100\n",
      "36375/36375 [==============================] - 19s 511us/step - loss: 0.6290 - acc: 0.7943 - val_loss: 0.9356 - val_acc: 0.7403\n",
      "Epoch 63/100\n",
      "36375/36375 [==============================] - 19s 513us/step - loss: 0.6130 - acc: 0.8016 - val_loss: 0.9366 - val_acc: 0.7341\n",
      "Epoch 64/100\n",
      "36375/36375 [==============================] - 19s 510us/step - loss: 0.6224 - acc: 0.7947 - val_loss: 0.9475 - val_acc: 0.7329\n",
      "Epoch 65/100\n",
      "36375/36375 [==============================] - 19s 512us/step - loss: 0.6092 - acc: 0.7999 - val_loss: 0.9535 - val_acc: 0.7314\n",
      "Epoch 66/100\n",
      "36375/36375 [==============================] - 19s 514us/step - loss: 0.6208 - acc: 0.7955 - val_loss: 0.9584 - val_acc: 0.7268\n",
      "Epoch 67/100\n",
      "36375/36375 [==============================] - 19s 514us/step - loss: 0.6136 - acc: 0.7956 - val_loss: 1.0157 - val_acc: 0.7087\n",
      "Epoch 68/100\n",
      "36375/36375 [==============================] - 19s 515us/step - loss: 0.6046 - acc: 0.8003 - val_loss: 0.9344 - val_acc: 0.7353\n",
      "Epoch 69/100\n",
      "36375/36375 [==============================] - 19s 516us/step - loss: 0.5998 - acc: 0.8019 - val_loss: 0.9450 - val_acc: 0.7301\n",
      "Epoch 70/100\n",
      "36375/36375 [==============================] - 19s 516us/step - loss: 0.5885 - acc: 0.8047 - val_loss: 0.9790 - val_acc: 0.7150\n",
      "Epoch 71/100\n",
      "36375/36375 [==============================] - 19s 512us/step - loss: 0.5928 - acc: 0.8043 - val_loss: 0.9342 - val_acc: 0.7385\n",
      "Epoch 72/100\n",
      "36375/36375 [==============================] - 19s 511us/step - loss: 0.5817 - acc: 0.8086 - val_loss: 0.9689 - val_acc: 0.7261\n",
      "Epoch 73/100\n",
      "36375/36375 [==============================] - 19s 511us/step - loss: 0.5822 - acc: 0.8101 - val_loss: 0.9767 - val_acc: 0.7266\n",
      "Epoch 74/100\n",
      "36375/36375 [==============================] - 18s 502us/step - loss: 0.5893 - acc: 0.8030 - val_loss: 0.9460 - val_acc: 0.7370\n",
      "Epoch 75/100\n",
      "36375/36375 [==============================] - 18s 506us/step - loss: 0.5786 - acc: 0.8093 - val_loss: 0.9639 - val_acc: 0.7337\n",
      "Epoch 76/100\n",
      "36375/36375 [==============================] - 19s 514us/step - loss: 0.5776 - acc: 0.8051 - val_loss: 0.9911 - val_acc: 0.7226\n",
      "Epoch 77/100\n",
      "36375/36375 [==============================] - 19s 515us/step - loss: 0.5665 - acc: 0.8152 - val_loss: 0.9531 - val_acc: 0.7378\n",
      "Epoch 78/100\n",
      "36375/36375 [==============================] - 19s 509us/step - loss: 0.5679 - acc: 0.8139 - val_loss: 0.9532 - val_acc: 0.7362\n",
      "Epoch 79/100\n",
      "36375/36375 [==============================] - 19s 509us/step - loss: 0.5622 - acc: 0.8111 - val_loss: 0.9512 - val_acc: 0.7325\n",
      "Epoch 80/100\n",
      "36375/36375 [==============================] - 19s 512us/step - loss: 0.5550 - acc: 0.8139 - val_loss: 0.9641 - val_acc: 0.7301\n",
      "Epoch 81/100\n",
      "36375/36375 [==============================] - 19s 514us/step - loss: 0.5650 - acc: 0.8111 - val_loss: 0.9487 - val_acc: 0.7360\n",
      "Epoch 82/100\n",
      "36375/36375 [==============================] - 19s 511us/step - loss: 0.5622 - acc: 0.8123 - val_loss: 0.9843 - val_acc: 0.7245\n",
      "Epoch 83/100\n",
      "36375/36375 [==============================] - 19s 513us/step - loss: 0.5553 - acc: 0.8129 - val_loss: 0.9597 - val_acc: 0.7348\n",
      "Epoch 84/100\n",
      "36375/36375 [==============================] - 19s 514us/step - loss: 0.5492 - acc: 0.8151 - val_loss: 0.9595 - val_acc: 0.7333\n",
      "Epoch 85/100\n",
      "36375/36375 [==============================] - 19s 516us/step - loss: 0.5524 - acc: 0.8165 - val_loss: 0.9609 - val_acc: 0.7371\n",
      "Epoch 86/100\n",
      "36375/36375 [==============================] - 19s 511us/step - loss: 0.5421 - acc: 0.8214 - val_loss: 0.9620 - val_acc: 0.7338\n",
      "Epoch 87/100\n",
      "36375/36375 [==============================] - 19s 511us/step - loss: 0.5417 - acc: 0.8177 - val_loss: 0.9867 - val_acc: 0.7262\n",
      "Epoch 88/100\n",
      "36375/36375 [==============================] - 19s 512us/step - loss: 0.5389 - acc: 0.8194 - val_loss: 0.9740 - val_acc: 0.7308\n",
      "Epoch 89/100\n",
      "36375/36375 [==============================] - 19s 512us/step - loss: 0.5425 - acc: 0.8200 - val_loss: 0.9627 - val_acc: 0.7348\n",
      "Epoch 90/100\n",
      "36375/36375 [==============================] - 19s 513us/step - loss: 0.5429 - acc: 0.8183 - val_loss: 0.9689 - val_acc: 0.7384\n",
      "Epoch 91/100\n",
      "36375/36375 [==============================] - 19s 511us/step - loss: 0.5302 - acc: 0.8219 - val_loss: 0.9547 - val_acc: 0.7388\n",
      "Epoch 92/100\n",
      "36375/36375 [==============================] - 18s 504us/step - loss: 0.5258 - acc: 0.8250 - val_loss: 0.9554 - val_acc: 0.7361\n",
      "Epoch 93/100\n",
      "36375/36375 [==============================] - 19s 512us/step - loss: 0.5294 - acc: 0.8238 - val_loss: 0.9680 - val_acc: 0.7353\n",
      "Epoch 94/100\n",
      "36375/36375 [==============================] - 18s 508us/step - loss: 0.5239 - acc: 0.8230 - val_loss: 0.9801 - val_acc: 0.7339\n",
      "Epoch 95/100\n",
      "36375/36375 [==============================] - 19s 513us/step - loss: 0.5304 - acc: 0.8231 - val_loss: 0.9573 - val_acc: 0.7344\n",
      "Epoch 96/100\n",
      "36375/36375 [==============================] - 19s 514us/step - loss: 0.5244 - acc: 0.8245 - val_loss: 0.9895 - val_acc: 0.7267\n",
      "Epoch 97/100\n",
      "36375/36375 [==============================] - 19s 513us/step - loss: 0.5210 - acc: 0.8255 - val_loss: 0.9805 - val_acc: 0.7278\n",
      "Epoch 98/100\n",
      "36375/36375 [==============================] - 19s 510us/step - loss: 0.5313 - acc: 0.8230 - val_loss: 0.9773 - val_acc: 0.7301\n",
      "Epoch 99/100\n",
      "36375/36375 [==============================] - 19s 512us/step - loss: 0.5195 - acc: 0.8249 - val_loss: 0.9541 - val_acc: 0.7402\n",
      "Epoch 100/100\n",
      "36375/36375 [==============================] - 19s 511us/step - loss: 0.5075 - acc: 0.8314 - val_loss: 1.0004 - val_acc: 0.7296\n"
     ]
    },
    {
     "data": {
      "text/plain": [
       "<keras.callbacks.History at 0x7fcbffb2f278>"
      ]
     },
     "execution_count": 37,
     "metadata": {
      "tags": []
     },
     "output_type": "execute_result"
    }
   ],
   "source": [
    "# Model 1 with 64% accuracy\n",
    "\n",
    "reg=None\n",
    "num_filters=32\n",
    "ac='relu'\n",
    "adm=Adam(lr=0.001,decay=0, beta_1=0.9, beta_2=0.999, epsilon=1e-08)\n",
    "opt=adm\n",
    "drop_dense=0.5\n",
    "drop_conv=0.5\n",
    "\n",
    "model = Sequential()\n",
    "\n",
    "model.add(Conv2D(num_filters, (3, 3), activation=ac, kernel_regularizer=reg, input_shape=(32, 32, 1),padding='same'))\n",
    "model.add(BatchNormalization(axis=-1))\n",
    "model.add(Conv2D(num_filters, (3, 3), activation=ac,kernel_regularizer=reg,padding='same'))\n",
    "model.add(BatchNormalization(axis=-1))\n",
    "model.add(MaxPooling2D(pool_size=(2, 2)))   # reduces to 16x16x3xnum_filters\n",
    "model.add(Dropout(drop_conv))\n",
    "\n",
    "model.add(Conv2D(2*num_filters, (3, 3), activation=ac,kernel_regularizer=reg,padding='same'))\n",
    "model.add(BatchNormalization(axis=-1))\n",
    "model.add(Conv2D(2*num_filters, (3, 3), activation=ac,kernel_regularizer=reg,padding='same'))\n",
    "model.add(BatchNormalization(axis=-1))\n",
    "model.add(MaxPooling2D(pool_size=(2, 2)))   # reduces to 8x8x3x(2*num_filters)\n",
    "model.add(Dropout(drop_conv))\n",
    "\n",
    "model.add(Conv2D(4*num_filters, (3, 3), activation=ac,kernel_regularizer=reg,padding='same'))\n",
    "model.add(BatchNormalization(axis=-1))\n",
    "model.add(Conv2D(4*num_filters, (3, 3), activation=ac,kernel_regularizer=reg,padding='same'))\n",
    "model.add(BatchNormalization(axis=-1))\n",
    "model.add(MaxPooling2D(pool_size=(2, 2)))   # reduces to 4x4x3x(4*num_filters)\n",
    "model.add(Dropout(drop_conv))\n",
    "\n",
    "model.add(Flatten())\n",
    "model.add(Dense(512, activation=ac,kernel_regularizer=reg))\n",
    "model.add(BatchNormalization())\n",
    "model.add(Dropout(drop_dense))\n",
    "model.add(Dense(10, activation='softmax'))\n",
    "\n",
    "model.compile(loss='categorical_crossentropy', metrics=['accuracy'],optimizer=opt)\n",
    "model.fit(X_train, y_train,batch_size=128, epochs=100, validation_data=(X_test, y_test))"
   ]
  },
  {
   "cell_type": "code",
   "execution_count": 0,
   "metadata": {
    "colab": {},
    "colab_type": "code",
    "id": "a30pWwgAL_cL"
   },
   "outputs": [],
   "source": [
    "# Prediction\n",
    "\n",
    "res = model.predict_classes(test)"
   ]
  },
  {
   "cell_type": "code",
   "execution_count": 0,
   "metadata": {
    "colab": {},
    "colab_type": "code",
    "id": "XL8lqOz3nhhA"
   },
   "outputs": [],
   "source": [
    "# File creation\n",
    "\n",
    "submission = pd.read_csv('/content/mydrive/My Drive/DM_DATA/sample.csv')\n",
    "submission['label'] = res\n",
    "submission.to_csv('/content/mydrive/My Drive/DM_DATA/submission_model3.csv',index=False)"
   ]
  },
  {
   "cell_type": "code",
   "execution_count": 0,
   "metadata": {
    "colab": {},
    "colab_type": "code",
    "id": "n8IGAK7GnhhE"
   },
   "outputs": [],
   "source": []
  }
 ],
 "metadata": {
  "accelerator": "GPU",
  "colab": {
   "collapsed_sections": [],
   "name": "DM Kernel 1.ipynb",
   "provenance": [],
   "version": "0.3.2"
  },
  "kernelspec": {
   "display_name": "Python 3",
   "language": "python",
   "name": "python3"
  },
  "language_info": {
   "codemirror_mode": {
    "name": "ipython",
    "version": 3
   },
   "file_extension": ".py",
   "mimetype": "text/x-python",
   "name": "python",
   "nbconvert_exporter": "python",
   "pygments_lexer": "ipython3",
   "version": "3.6.5"
  }
 },
 "nbformat": 4,
 "nbformat_minor": 1
}
