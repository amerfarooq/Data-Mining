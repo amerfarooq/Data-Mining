{
 "cells": [
  {
   "cell_type": "code",
   "execution_count": 18,
   "metadata": {},
   "outputs": [],
   "source": [
    "import numpy as np\n",
    "from collections import defaultdict\n",
    "from math import sqrt, pi, exp\n",
    "import matplotlib.pyplot as plot"
   ]
  },
  {
   "cell_type": "code",
   "execution_count": 21,
   "metadata": {},
   "outputs": [],
   "source": [
    "# data = np.genfromtxt(\"seeds_dataset.txt\")\n",
    "data = np.genfromtxt(\"data_banknote_authentication.txt\", delimiter=\",\")\n",
    "\n",
    "np.random.shuffle(data)"
   ]
  },
  {
   "cell_type": "code",
   "execution_count": 4,
   "metadata": {},
   "outputs": [],
   "source": [
    "def k_fold_cross_val(array, k):\n",
    "  \"\"\"\n",
    "  Input:\n",
    "  -----\n",
    "  1- array: the numpy array that needs to be split\n",
    "  2- k:     the number of partitions to make of \"array\"\n",
    "  \n",
    "  Returns:\n",
    "  --------\n",
    "  A dictionary with two keys, \"sets\" and \"folds\". The sets key points at\n",
    "  a list containing k partitions of the passed array. The folds key points\n",
    "  at a list of length k containing pairs where each pair indicates the indices\n",
    "  of partitions from \"sets\" which correspond to the training and testing data.\n",
    "  e.g ( [1, 2, 3, 4], 0). Here, the list tells us that the partitions 1-4 from\n",
    "  \"sets\" will be used for training and partition 0 will be used for testing.\n",
    "  \n",
    "  \"\"\"\n",
    "  result = {}\n",
    "  result[\"sets\"] = np.array_split(array, k)\n",
    "  \n",
    "  folds = []\n",
    "  for i in range(0, k):\n",
    "    folds.append( (np.arange(0, k)[np.arange(0, k) != i], i) )\n",
    "  \n",
    "  result[\"folds\"] = folds\n",
    "  return result\n",
    "  "
   ]
  },
  {
   "cell_type": "code",
   "execution_count": 5,
   "metadata": {},
   "outputs": [],
   "source": [
    "def get_class_information(array):\n",
    "  \"\"\"\n",
    "  Returns all the classes and their probabilities in the given array. Assumes\n",
    "  last column of the given array contains the class label.\n",
    "  \n",
    "  \"\"\"\n",
    "  temp = np.unique(array[:, -1], return_counts=True)\n",
    "  classes = temp[0]\n",
    "  class_probs = temp[1] / np.sum(temp[1])\n",
    "  \n",
    "  return classes, class_probs\n"
   ]
  },
  {
   "cell_type": "code",
   "execution_count": 6,
   "metadata": {},
   "outputs": [],
   "source": [
    "def get_norm_params(classes, array):\n",
    "  \"\"\"\n",
    "  Computes mean and stdev for all features of each class and returns it in the\n",
    "  form of a nested dictionary. To get mean of e.g. class=3 and feature=2, we will do\n",
    "  dict[3][2][\"mean\"]. For standard deviation, simply replace \"mean\" with \"std\".\n",
    "  \n",
    "  \"\"\"\n",
    "  norm_params = defaultdict(lambda: defaultdict(lambda: defaultdict(float)))\n",
    "  \n",
    "  for class_ in classes:\n",
    "    for feature in range(0, array.shape[1] - 1):\n",
    "        feature_data = array[:, feature][array[:, -1] == class_]\n",
    "      \n",
    "        mean = np.mean(feature_data)\n",
    "        std = np.std(feature_data)\n",
    "\n",
    "        norm_params[class_][feature][\"mean\"] = mean\n",
    "        norm_params[class_][feature][\"std\"] = std\n",
    "      \n",
    "  return norm_params"
   ]
  },
  {
   "cell_type": "code",
   "execution_count": 7,
   "metadata": {},
   "outputs": [],
   "source": [
    "def get_norm_prob(mean, std, x):\n",
    "  \"\"\"\n",
    "  Returns probability of x in a normal distribution.\n",
    "  \n",
    "  \"\"\"\n",
    "  return 1 / ( std * sqrt(2 * pi) ) * exp( (-(x - mean) **2 ) / (2 * std**2 ) )"
   ]
  },
  {
   "cell_type": "markdown",
   "metadata": {},
   "source": []
  },
  {
   "cell_type": "code",
   "execution_count": 8,
   "metadata": {},
   "outputs": [],
   "source": [
    "def get_cond_prob(x, class_, norm_params):\n",
    "  \"\"\"\n",
    "  Computes the conditional probability part of the Bayes Theorem which is \n",
    "  the product of the normal dist. probability for each feature of the given\n",
    "  datapoint, x, for the given class.\n",
    "  \n",
    "  \"\"\"\n",
    "  prob = 1\n",
    "  \n",
    "  for feature in range(0, x.shape[0] - 1):\n",
    "    mean = norm_params[class_][feature][\"mean\"]\n",
    "    std = norm_params[class_][feature][\"std\"]\n",
    "    \n",
    "    prob *= (get_norm_prob(mean, std, x[feature]))\n",
    "    \n",
    "  return prob"
   ]
  },
  {
   "cell_type": "code",
   "execution_count": 9,
   "metadata": {},
   "outputs": [],
   "source": [
    "def naive_bayes(train, test):\n",
    "  \"\"\"\n",
    "  Returns the accuracy of the Bayes Classifier on the given test set after\n",
    "  training on the train set.\n",
    "  \n",
    "  \"\"\"\n",
    "  classes, class_probs = get_class_information(train)           \n",
    "  norm_params = get_norm_params(classes, train)\n",
    "  \n",
    "  correct_guesses = 0\n",
    "  \n",
    "  for datapoint in test:\n",
    "    # Contains the probability of datapoint belonging to each class\n",
    "    prediction_probs = []\n",
    "\n",
    "    for index, class_ in enumerate(classes):\n",
    "      prediction_probs.append( class_probs[index] * get_cond_prob(datapoint, class_, norm_params) )\n",
    "    \n",
    "    # Compare class corresponding to the max probability with actual class  \n",
    "    if classes[prediction_probs.index(max(prediction_probs))] == datapoint[-1]:\n",
    "      correct_guesses += 1\n",
    "\n",
    "  return correct_guesses / test.shape[0]"
   ]
  },
  {
   "cell_type": "code",
   "execution_count": 22,
   "metadata": {},
   "outputs": [
    {
     "name": "stdout",
     "output_type": "stream",
     "text": [
      "(array([1, 2, 3, 4]), 0)   0.8545454545454545\n",
      "(array([0, 2, 3, 4]), 1)   0.8472727272727273\n",
      "(array([0, 1, 3, 4]), 2)   0.8248175182481752\n",
      "(array([0, 1, 2, 4]), 3)   0.8357664233576643\n",
      "(array([0, 1, 2, 3]), 4)   0.8321167883211679\n"
     ]
    },
    {
     "data": {
      "text/plain": [
       "{'whiskers': [<matplotlib.lines.Line2D at 0x4789ff0>,\n",
       "  <matplotlib.lines.Line2D at 0x47c43f0>],\n",
       " 'caps': [<matplotlib.lines.Line2D at 0x47c4650>,\n",
       "  <matplotlib.lines.Line2D at 0x47c4910>],\n",
       " 'boxes': [<matplotlib.lines.Line2D at 0x4789f30>],\n",
       " 'medians': [<matplotlib.lines.Line2D at 0x47c4b90>],\n",
       " 'fliers': [<matplotlib.lines.Line2D at 0x47c4e90>],\n",
       " 'means': [<matplotlib.lines.Line2D at 0x47c4d90>]}"
      ]
     },
     "execution_count": 22,
     "metadata": {},
     "output_type": "execute_result"
    },
    {
     "data": {
      "image/png": "[encoded data removed]",
      "text/plain": [
       "<Figure size 432x288 with 1 Axes>"
      ]
     },
     "metadata": {
      "needs_background": "light"
     },
     "output_type": "display_data"
    }
   ],
   "source": [
    "split_data_dict = k_fold_cross_val(data, k = 5)\n",
    "sets = split_data_dict[\"sets\"]\n",
    "folds = split_data_dict[\"folds\"]\n",
    "\n",
    "accuracies = []\n",
    "\n",
    "# fold -> tuple(list of indexes of training sets in \"sets\", index of test set in \"sets\")\n",
    "for fold in folds:\n",
    "  \n",
    "  # Use first set as initial set so concatenate can be called as dimensions of \n",
    "  # both arrays need to be same for concat to work.\n",
    "  final_train_set = sets[fold[0][0]]\n",
    "  \n",
    "  for training_set in fold[0][1:]:\n",
    "    final_train_set = np.concatenate([final_train_set, sets[training_set]])\n",
    "    \n",
    "  accuracies.append(naive_bayes(final_train_set, sets[fold[1]]))\n",
    "  print (fold, \" \", naive_bayes(final_train_set, sets[fold[1]]))\n",
    "  \n",
    "plot.boxplot(accuracies, showmeans=True)"
   ]
  },
  {
   "cell_type": "code",
   "execution_count": null,
   "metadata": {},
   "outputs": [],
   "source": []
  }
 ],
 "metadata": {
  "kernelspec": {
   "display_name": "Python 3",
   "language": "python",
   "name": "python3"
  },
  "language_info": {
   "codemirror_mode": {
    "name": "ipython",
    "version": 3
   },
   "file_extension": ".py",
   "mimetype": "text/x-python",
   "name": "python",
   "nbconvert_exporter": "python",
   "pygments_lexer": "ipython3",
   "version": "3.6.5"
  }
 },
 "nbformat": 4,
 "nbformat_minor": 2
}
